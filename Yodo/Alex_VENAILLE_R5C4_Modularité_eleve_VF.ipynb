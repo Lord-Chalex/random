{
  "cells": [
    {
      "cell_type": "markdown",
      "metadata": {
        "id": "U5jYcIbRC9Oh"
      },
      "source": [
        "# Modularité\n",
        "\n",
        "*Merci à Olivier Lecluse pour le contenu de ce cours.*"
      ]
    },
    {
      "cell_type": "markdown",
      "metadata": {
        "id": "yNDqBE9VAXW1"
      },
      "source": [
        "## API\n",
        "Une API (Application Pgramming Interface) permet aux développeurs d'intégrer une application à une autre. Cela peut permettre par exemple de récupérer des données structurées depuis un site web pour les exploiter de manière automatisée dans un programme.\n",
        "\n",
        "### Exemple : récupérer la météo dans son programme python\n",
        "Nous cherchons à récupérer dans un programme python la température et à l'afficher. Pour cela, nous allons utiliser une API existante.\n",
        "\n",
        "Nous allons utiliser les services d'[openweathermap](https://openweathermap.org/). Si vous vous rendez sur le site, vous voyez bien les informations qui nous intéressent mais sous cette forme, nous ne pouvons pas les exploiter facilement. Si vous cliquez sur l'onglet API, vous verrez tout ce que le site propose comme API. Certaines sont gratuites d'accès, d'autres payantes Dans tous les cas, pour en bénéficier, il faudra créer un compte sur le site. Pour découvrir le principe de l'utilisation de ces API, nous n'aurons pas besoin de compte car une API de démonstration suffit pour tester notre programme. Libre à vous si vous souhaitez travailler sur des données réelles et actualises de créer un compte.\n",
        "\n",
        "On accède à une API via une URL fournie par le site. Un exemple d'une telle URL est : https://samples.openweathermap.org/data/2.5/weather?zip=94040,us&appid=439d4b804bc8187953eb36d2a8c26a02\n",
        "\n",
        "Cette URL contient plusieurs paramètres\n",
        "\n",
        "* zip : code postal et pays\n",
        "* appid : clé api fournie par le site quand vous avez créé un compte. celle qui est proposée ici donne accès à des informations de démonstration. Elles ont le bon format pour nous permettre de développer et tester notre programme.\n",
        "\n",
        "Si vous ouvrez cette URL avec Firefox, ce dernier va les présenter de manière lisible. En réalité, le fichier qui est envoyé via cette URL est un fichier au format json qui ressemble à une structure de dictionnaire avec des associations clé-valeur :\n",
        "\n",
        "```\n",
        "{\n",
        "    \"coord\":{\"lon\":-122.09,\"lat\":37.39},\n",
        "    \"weather\":[{\"id\":500,\"main\":\"Rain\",\"description\":\"light rain\",\"icon\":\"10d\"}],\n",
        "    \"base\":\"stations\",\n",
        "    \"main\":{\"temp\":280.44,\"pressure\":1017,\"humidity\":61,\"temp_min\":279.15,\"temp_max\":281.15},\n",
        "    \"visibility\":12874,\n",
        "    \"wind\":{\"speed\":8.2,\"deg\":340,\"gust\":11.3},\n",
        "    \"clouds\":{\"all\":1},\n",
        "    \"dt\":1519061700,\n",
        "    \"sys\":{\"type\":1,\"id\":392,\"message\":0.0027,\"country\":\"US\",\"sunrise\":1519051894,\"sunset\":1519091585},\n",
        "    \"id\":0,\n",
        "    \"name\":\"Mountain View\",\n",
        "    \"cod\":200\n",
        "}\n",
        "```\n",
        "\n",
        "Grâce au module **requests**, Python peut récupérer les données au format json et les intégrer dans un dictionnaire.\n",
        "\n",
        "Voici un programme basique permettant de récupérer et afficher quelques informations:"
      ]
    },
    {
      "cell_type": "markdown",
      "metadata": {
        "id": "1akz1-Eat4FI"
      },
      "source": [
        "### Un exemple un Key demo & url samples.openweathermap.org\n",
        "\n"
      ]
    },
    {
      "cell_type": "code",
      "execution_count": 1,
      "metadata": {
        "id": "I7r8hOV5CO8S"
      },
      "outputs": [],
      "source": [
        "import requests\n",
        "\n",
        "API_KEY = \"439d4b804bc8187953eb36d2a8c26a02\"\n",
        "\n",
        "def get_weather(api_key, location):\n",
        "    url = f\"https://samples.openweathermap.org/data/2.5/weather?zip={location}&appid={api_key}\"\n",
        "    r = requests.get(url)\n",
        "    return r.json()"
      ]
    },
    {
      "cell_type": "markdown",
      "metadata": {
        "id": "Ox_uRJpCCWnC"
      },
      "source": [
        "la fonction get_weather va renvoyer directement un dictionnaire :"
      ]
    },
    {
      "cell_type": "code",
      "execution_count": 2,
      "metadata": {
        "id": "NPWcufFxCZFK"
      },
      "outputs": [
        {
          "name": "stdout",
          "output_type": "stream",
          "text": [
            "{\n",
            "    \"coord\": {\n",
            "        \"lon\": -122.09,\n",
            "        \"lat\": 37.39\n",
            "    },\n",
            "    \"weather\": [\n",
            "        {\n",
            "            \"id\": 500,\n",
            "            \"main\": \"Rain\",\n",
            "            \"description\": \"light rain\",\n",
            "            \"icon\": \"10d\"\n",
            "        }\n",
            "    ],\n",
            "    \"base\": \"stations\",\n",
            "    \"main\": {\n",
            "        \"temp\": 280.44,\n",
            "        \"pressure\": 1017,\n",
            "        \"humidity\": 61,\n",
            "        \"temp_min\": 279.15,\n",
            "        \"temp_max\": 281.15\n",
            "    },\n",
            "    \"visibility\": 12874,\n",
            "    \"wind\": {\n",
            "        \"speed\": 8.2,\n",
            "        \"deg\": 340,\n",
            "        \"gust\": 11.3\n",
            "    },\n",
            "    \"clouds\": {\n",
            "        \"all\": 1\n",
            "    },\n",
            "    \"dt\": 1519061700,\n",
            "    \"sys\": {\n",
            "        \"type\": 1,\n",
            "        \"id\": 392,\n",
            "        \"message\": 0.0027,\n",
            "        \"country\": \"US\",\n",
            "        \"sunrise\": 1519051894,\n",
            "        \"sunset\": 1519091585\n",
            "    },\n",
            "    \"id\": 0,\n",
            "    \"name\": \"Mountain View\",\n",
            "    \"cod\": 200\n",
            "}\n"
          ]
        }
      ],
      "source": [
        "import json\n",
        "\n",
        "data = get_weather(API_KEY, \"14200,fr\")\n",
        "\n",
        "# une façon explicite d'afficher les fichiers Json\n",
        "print(json.dumps(data, indent=4))"
      ]
    },
    {
      "cell_type": "markdown",
      "metadata": {
        "id": "9qPAQt1XChZx"
      },
      "source": [
        "Récupérer la température (en Kelvin) se fait alors via"
      ]
    },
    {
      "cell_type": "code",
      "execution_count": 3,
      "metadata": {
        "id": "l5Llmq6yCibj"
      },
      "outputs": [
        {
          "data": {
            "text/plain": [
              "280.44"
            ]
          },
          "execution_count": 3,
          "metadata": {},
          "output_type": "execute_result"
        }
      ],
      "source": [
        "data['main']['temp']"
      ]
    },
    {
      "cell_type": "markdown",
      "metadata": {
        "id": "rkKQhDBgCpy_"
      },
      "source": [
        "En effet, notre dictionnaire sous la clé 'main' renvoie un nouveau dictionnaire"
      ]
    },
    {
      "cell_type": "code",
      "execution_count": 4,
      "metadata": {
        "id": "NYPfzzQACrxZ"
      },
      "outputs": [
        {
          "data": {
            "text/plain": [
              "{'temp': 280.44,\n",
              " 'pressure': 1017,\n",
              " 'humidity': 61,\n",
              " 'temp_min': 279.15,\n",
              " 'temp_max': 281.15}"
            ]
          },
          "execution_count": 4,
          "metadata": {},
          "output_type": "execute_result"
        }
      ],
      "source": [
        "data['main']"
      ]
    },
    {
      "cell_type": "markdown",
      "metadata": {
        "id": "gThwSvonCzV8"
      },
      "source": [
        "qui à son tour renvoie la température via sa clé 'temp'"
      ]
    },
    {
      "cell_type": "markdown",
      "metadata": {
        "id": "2Rtx3yugC3Fc"
      },
      "source": [
        "## A vous de jouer - 1\n",
        "1. en utilisant [Call current weather data\n",
        "](https://openweathermap.org/current), réaliser la fonction qui permet d'extraire la data avec votre key.\n",
        "2. Affichez la émpérature pour la ville de Londres\n",
        "3. Afficher l'information \"description\" dans la clé \"weather\" du fichier Json.\n",
        "3. Récupérez de l'exemple précédent la direction du vent (N-E-S-W) et la vitesse en Km/h."
      ]
    },
    {
      "cell_type": "code",
      "execution_count": null,
      "metadata": {},
      "outputs": [
        {
          "name": "stdout",
          "output_type": "stream",
          "text": [
            "Température à Londres: 9.5°C\n",
            "Description de la météo: scattered clouds\n",
            "Direction du vent: 280°\n",
            "Vitesse du vent: 3.6 km/h\n"
          ]
        }
      ],
      "source": [
        "import requests\n",
        "import json\n",
        "\n",
        "My_API = \"d5395a553a530ffc825088c4e768b20b\"\n",
        "\n",
        "def a_vous_jouer():\n",
        "    url = f\"https://api.openweathermap.org/data/2.5/weather?q=Londres&appid={My_API}&units=metric\"\n",
        "    r = requests.get(url)\n",
        "    return r.json()\n",
        "\n",
        "londres = a_vous_jouer()\n",
        "\n",
        "temperature = londres['main']['temp']\n",
        "description = londres['weather'][0]['description']\n",
        "wind_direction = londres['wind']['deg']\n",
        "wind_speed = londres['wind']['speed']\n",
        "\n",
        "\n",
        "print(f\"Température à Londres: {temperature}°C\")\n",
        "print(f\"Description de la météo: {description}\")\n",
        "print(f\"Direction du vent: {wind_direction}°\")\n",
        "print(f\"Vitesse du vent: {wind_speed} km/h\")\n"
      ]
    },
    {
      "cell_type": "markdown",
      "metadata": {
        "id": "NGLyV39GDzGA"
      },
      "source": [
        "## Créer un module en python\n",
        "Vous l'avez vu, le travail sur les API a été grandement facilité par l'utilisation du module requests qui fait en réalité tout le travail pour nous. Grâce à ce module, notre programme est très concis et lisible. De plus, nous pouvons exploiter ce même module requests dans plusieurs programmes sans avoir à le redévelopper.\n",
        "\n",
        "Nous allons voir maintenant comment créer nos propres modules en python afin d'enrichir le langage de nouvelles fonctions et objets réutilisables facilement."
      ]
    },
    {
      "cell_type": "markdown",
      "metadata": {
        "id": "PW6VkgeMEBQR"
      },
      "source": [
        "### Principe général\n",
        "Un module est un ensemble de fonctions suffisamment générales pour être réutilisables dans plusieurs projets. Pour plus de clarté, on ne regroupera dans un même module que les fonctions relatives à une même fonctionnalité.\n",
        "\n",
        "Un module s'importe par son nom qui est le nom du fichier python **privé de l'extension .py**.\n",
        "\n",
        "Par exemple, le module random regroupe des fonctions en lien avec l'aléatoire (randint, choice, shuffle, ...)\n",
        "\n",
        "Un module étant une boîte noire - on a pas en général le code des fonctions sous les yeux - , celui-ci doit exposer de manière claire au développeur son interface, c'est à dire\n",
        "\n",
        "* la liste des fonctions et leur rôle\n",
        "* ce que chaque fonction prend en entrée\n",
        "* ce que chaque fonction renvoie en résultat\n",
        "\n",
        "Ces fonctions sont stockées dans un fichier random.py quelque-part sur le système de fichiers de votre ordinateur.\n",
        "\n",
        "Pour cela, un formalisme particulier existe sous python - **les docstrings** - qui permet de décrire précisément ces informations. Ainsi, un développeur pourra accéder à l'interface du module pour savoir comment utiliser chacune des fonctions.\n",
        "\n",
        "Exemple\n",
        "tapez ce code dans une console python :"
      ]
    },
    {
      "cell_type": "code",
      "execution_count": 6,
      "metadata": {
        "id": "oZ3ZjXSiEO6F"
      },
      "outputs": [
        {
          "name": "stdout",
          "output_type": "stream",
          "text": [
            "Help on method randint in module random:\n",
            "\n",
            "randint(a, b) method of random.Random instance\n",
            "    Return random integer in range [a, b], including both end points.\n",
            "\n"
          ]
        }
      ],
      "source": [
        "from random import randint\n",
        "help(randint)"
      ]
    },
    {
      "cell_type": "markdown",
      "metadata": {
        "id": "p4EUCqlKEgIt"
      },
      "source": [
        "Vous constaterez l'affichage de ce texte explicatif. Cela est rendu possible par l'utilisation de docstrings à l'intérieur de la fonction randint.\n",
        "\n",
        "```\n",
        "Help on method randint in module random:\n",
        "\n",
        "randint(a, b) method of random.Random instance\n",
        "    Return random integer in range [a, b], including both end points.\n",
        "```\n",
        "\n",
        "Si vous tapez **help(random)** vous aurez une description générale des fonctions disponibles dans le module.\n",
        "\n",
        "Il est intéressant de regarder les sources d'un module officiel de python pour voir comment sont implémentées toutes ces docstrings :\n",
        "\n",
        "[https://github.com/python/cpython/blob/master/Lib/random.py](https://github.com/python/cpython/blob/master/Lib/random.py)\n",
        "\n",
        "On retiendra\n",
        "\n",
        "* une docstring est une chaîne de caractères délimitée par 3 doubles quotes\n",
        "* un module commence par une docstring de présentation générale\n",
        "* chaque fonction commence par une docstring présentant le rôle et le fonctionnement de celle-ci.\n",
        "Voici l'implémentation de la fonction randint dans le module random qui montre d'où provient le texte d'aide affiché par la fonction help()\n",
        "```\n",
        "def randint(self, a, b):\n",
        "    \"\"\"Return random integer in range [a, b], including both end points.\n",
        "    \"\"\"\n",
        "\n",
        "    return self.randrange(a, b+1)\n",
        "```\n",
        "Pour en savoir plus sur les docstrings, vous pouvez vous référer au guide de préconisations python **PEP-257** : [https://www.python.org/dev/peps/pep-0257/](https://www.python.org/dev/peps/pep-0257/)"
      ]
    },
    {
      "cell_type": "markdown",
      "metadata": {
        "id": "H0R-v3UiW5Cp"
      },
      "source": [
        "### Package vs Module en Python\n",
        "\n",
        "Nous avons différents packages disponibles en Python. Chaque paquet a son domaine d’intérêt. Lorsque nous travaillons avec Python, nous utilisons différentes fonctionnalités appartenant à différents modules ou packages. Nous utilisons les termes **modules** et **packages** de manière interchangeable.\n",
        "\n",
        "Nous comprendrons la différence entre ces deux termes dans cet article.\n",
        "\n",
        "**Un module** est un fichier de script composé de diverses fonctions et variables globales. Le fichier est enregistré avec une extension **.py**. Ces fichiers sont exécutables et peuvent stocker différentes fonctions et objets. Pour organiser les modules, nous avons le concept de **Packages** en Python.\n",
        "\n",
        "D’autre part, **un package** est un simple répertoire constitué de collections de modules. Un package contient un fichier supplémentaire **__init__.py** afin que l’interpréteur l’interprète comme un package. Nous pouvons l’interpréter comme une structure de répertoires de fichiers hiérarchique qui définit un environnement d’application unique. Un paquet peut être composé d’autres sous-paquets plus petits.\n",
        "\n",
        "Il convient également de noter les similitudes entre les deux. Pour les utiliser, nous les importons à l’aide de l’instruction **import**. Cela crée un objet de type **module** que nous importions un module ou un package. Cependant, lors de l’import d’un package, seules les classes, fonctions, variables sont visibles, qui sont directement visibles dans le fichier **__init__.py**."
      ]
    },
    {
      "cell_type": "markdown",
      "metadata": {
        "id": "C-pY0Yq8FRkF"
      },
      "source": [
        "### Importer un module\n",
        "Vous êtes confrontés à l'import de modules depuis la première ligne de python que vous avez rencontré pratiquement. En effet, si vous voulez utiliser des fonctions aléatoires ou mathématiques de base, vous êtes obligé d'importer le module random ou maths."
      ]
    },
    {
      "cell_type": "markdown",
      "metadata": {
        "id": "ynMtV1psFZmM"
      },
      "source": [
        "```\n",
        "⚠️ Attention ! ⚠️\n",
        "N'importez jamais un module par la commande from module import *\n",
        "```\n",
        "\n",
        "et pourtant, c'est la première ligne que l'on trouve lorsque l'on programme en python sur calculatrice. C'est une très mauvaise pratique menant à des bugs difficiles à déceler. En effet, cela importe toutes les fonctions du module sans distinction, avec le risque d'écraser d'autres fonctions de même nom dans d'autres modules.\n",
        "\n",
        "Vous trouverez beaucoup de code python sur internet important les modules ainsi. **C'est mal**, ne le faîtes pas !\n",
        "\n",
        "Il y a deux moyens d'importer proprement des modules :\n",
        "\n",
        "#### **from nom_du_module import fonction_1, fonction_2 ...**\n",
        "\n",
        "Avec cette syntaxe, on indique explicitement les fonctions que l'on souhaite utiliser. C'est très clair pour le lecteur et le développeur. Il n'y a pas de risques de confusion ou de conflits de noms car on voit les fonctions que l'on importe.\n",
        "\n",
        "Pour utiliser les fonctions, il suffit de les invoquer simplement par leur nom : fonction1(arguments).\n",
        "\n",
        "exemple :"
      ]
    },
    {
      "cell_type": "code",
      "execution_count": 26,
      "metadata": {
        "id": "ACWjdcWMF4Gf"
      },
      "outputs": [],
      "source": [
        "from random import randint\n",
        "a = randint(1,100)"
      ]
    },
    {
      "cell_type": "markdown",
      "metadata": {
        "id": "79QVa83CGHp4"
      },
      "source": [
        "#### **import module**\n",
        "Cette syntaxe concise à l'import est aussi sans ambiguïté. Par contre, elle va imposer que chaque appel de fonction soit précédé du module en préfixe.\n",
        "\n",
        "Pour utiliser des fonction, on invoquera alors module.fonction_1 etc...\n",
        "\n",
        "exemple :"
      ]
    },
    {
      "cell_type": "code",
      "execution_count": 27,
      "metadata": {
        "id": "0_BCnZqiGabj"
      },
      "outputs": [],
      "source": [
        "import random\n",
        "a = random.randint(1,100)"
      ]
    },
    {
      "cell_type": "markdown",
      "metadata": {
        "id": "kIfuSwyJGfMJ"
      },
      "source": [
        "Il est possible en cas de nom de module trop compliqué de lui donner un alias plus court par commodité :\n",
        "\n",
        "exemple :"
      ]
    },
    {
      "cell_type": "code",
      "execution_count": 28,
      "metadata": {
        "id": "hKqOzI4TGgcM"
      },
      "outputs": [],
      "source": [
        "import random as rnd\n",
        "a = rnd.randint(1,100)"
      ]
    },
    {
      "cell_type": "markdown",
      "metadata": {
        "id": "DBYV8Vvy_4Lf"
      },
      "source": [
        "### Pour résumer les différents imports de module\n",
        "\n",
        "1. **from module import *** - *A éviter*\n",
        "\n",
        "    * tous les noms définis dans le module sont importés dans le namespace global de votre code\n",
        "    * Cela signifie que vous pouvez utiliser directement les noms sans préfixe de module, mais cela peut entraîner une pollution du **namespace global**. Cela peut être source de confusion si les mêmes noms existent dans d'autres parties de votre code.\n",
        "    * ajoute tous les noms(Fonction, variable...) du module directement dans la **portée globale**, ce qui peut consommer **plus de mémoire**\n",
        "\n",
        "2. **import module** - *Propre mais couteuse*\n",
        "\n",
        "    * vous pouvez accéder aux noms définis dans le module en utilisant le préfixe du nom du module, par exemple, `module.fonction()`.\n",
        "    * Cela limite la pollution du **namespace global**, ce qui signifie que les fonctions du programme initiale sont disponibles sans le préfixe du module.\n",
        "    * La différence fondamentale en termes de mémoire et d'efficacité réside dans la portée des noms importés.\n",
        "\n",
        "3. **from module import fonction** - $Propre & Efficace*\n",
        "\n",
        "    * Cette méthode est efficace lorsque vous avez un module volumineux, mais vous n'avez besoin que d'une ou quelques fonctions spécifiques.\n",
        "    * Elle permet d'importer uniquement les fonctions nécessaires, ce qui peut économiser de la mémoire et éviter des conflits potentiels si les fonctions ont des noms similaires dans différents modules."
      ]
    },
    {
      "cell_type": "markdown",
      "metadata": {
        "id": "65Ei_Qj6Gqru"
      },
      "source": [
        "## A vous de jouer - 2\n",
        "\n",
        "Écrire un module `aires` permettant de calculer les aires de figures géométriques usuelles :\n",
        "\n",
        "* triangle\n",
        "* disque\n",
        "* rectangle\n",
        "\n",
        "Vous veillerez à respecter les consignes suivantes :\n",
        "\n",
        "* à chaque figure correspondra une fonction du même nom\n",
        "* vous déciderez des paramètres pertinents à communiquer à chaque fonction pour le calcul de l'aire\n",
        "* le module et chaque fonction seront correctement documentées afin qu'un développeur ne connaissant pas votre module puisse l'utiliser facilement grâce à la fonction **help**.\n",
        "\n",
        "Vous écrirez ensuite un petit programme afin de tester le fonctionnement de ce module (sur ordinateur ou via Colab)."
      ]
    },
    {
      "cell_type": "code",
      "execution_count": 10,
      "metadata": {},
      "outputs": [
        {
          "name": "stdout",
          "output_type": "stream",
          "text": [
            "L'aire du triangle avec base 5 et hauteur 10 est : 25.0 unités carrées.\n",
            "L'aire du disque avec rayon 7 est : 153.86 unités carrées.\n",
            "L'aire du rectangle avec une longueur 8 et largeur de 4 est : 32 unités carrées.\n"
          ]
        }
      ],
      "source": [
        "import aire\n",
        "\n",
        "base = 5\n",
        "hauteur = 10\n",
        "aire_triangle = aire.triangle(base, hauteur)\n",
        "print(f\"L'aire du triangle avec base {base} et hauteur {hauteur} est : {aire_triangle} unités carrées.\")\n",
        "\n",
        "rayon = 7\n",
        "aire_disque = aire.disque(rayon)\n",
        "print(f\"L'aire du disque avec rayon {rayon} est : {aire_disque:.2f} unités carrées.\")\n",
        "\n",
        "\n",
        "longueur = 8\n",
        "largeur = 4\n",
        "aire_rectangle = aire.rectancle(longueur, largeur)\n",
        "print(f\"L'aire du rectangle avec une longueur {longueur} et largeur de {largeur} est : {aire_rectangle} unités carrées.\")"
      ]
    },
    {
      "cell_type": "markdown",
      "metadata": {
        "id": "Tf_pN7KsJUTr"
      },
      "source": [
        "## A vous de jouer - 3\n",
        "\n",
        "Ouvrir le fichier Json\n",
        "1. Importer votre module pour calculer le point le plus proche du point M(8,8)\n",
        "2. Importer votre module pour calculer le point le plus proche de la droite Y = x\n",
        "2. Importer votre module pour calculer le point vert (Séries \"I\") le plus proche de la droite Y = x"
      ]
    },
    {
      "cell_type": "code",
      "execution_count": 1,
      "metadata": {
        "id": "7QRQvPtpJj11"
      },
      "outputs": [
        {
          "ename": "FileNotFoundError",
          "evalue": "[Errno 2] No such file or directory: '/Yodo/anscombe.json'",
          "output_type": "error",
          "traceback": [
            "\u001b[0;31m---------------------------------------------------------------------------\u001b[0m",
            "\u001b[0;31mFileNotFoundError\u001b[0m                         Traceback (most recent call last)",
            "Cell \u001b[0;32mIn[1], line 5\u001b[0m\n\u001b[1;32m      1\u001b[0m \u001b[38;5;28;01mimport\u001b[39;00m \u001b[38;5;21;01mjson\u001b[39;00m\n\u001b[1;32m      3\u001b[0m data_json \u001b[38;5;241m=\u001b[39m \u001b[38;5;124m\"\u001b[39m\u001b[38;5;124m/Yodo/anscombe.json\u001b[39m\u001b[38;5;124m\"\u001b[39m\n\u001b[0;32m----> 5\u001b[0m \u001b[38;5;28;01mwith\u001b[39;00m \u001b[38;5;28;43mopen\u001b[39;49m\u001b[43m(\u001b[49m\u001b[43mdata_json\u001b[49m\u001b[43m,\u001b[49m\u001b[43m \u001b[49m\u001b[38;5;124;43m'\u001b[39;49m\u001b[38;5;124;43mr\u001b[39;49m\u001b[38;5;124;43m'\u001b[39;49m\u001b[43m)\u001b[49m \u001b[38;5;28;01mas\u001b[39;00m fichier:\n\u001b[1;32m      6\u001b[0m     data \u001b[38;5;241m=\u001b[39m json\u001b[38;5;241m.\u001b[39mload(fichier)\n\u001b[1;32m      8\u001b[0m data[:\u001b[38;5;241m3\u001b[39m]\n",
            "File \u001b[0;32m~/.local/lib/python3.12/site-packages/IPython/core/interactiveshell.py:324\u001b[0m, in \u001b[0;36m_modified_open\u001b[0;34m(file, *args, **kwargs)\u001b[0m\n\u001b[1;32m    317\u001b[0m \u001b[38;5;28;01mif\u001b[39;00m file \u001b[38;5;129;01min\u001b[39;00m {\u001b[38;5;241m0\u001b[39m, \u001b[38;5;241m1\u001b[39m, \u001b[38;5;241m2\u001b[39m}:\n\u001b[1;32m    318\u001b[0m     \u001b[38;5;28;01mraise\u001b[39;00m \u001b[38;5;167;01mValueError\u001b[39;00m(\n\u001b[1;32m    319\u001b[0m         \u001b[38;5;124mf\u001b[39m\u001b[38;5;124m\"\u001b[39m\u001b[38;5;124mIPython won\u001b[39m\u001b[38;5;124m'\u001b[39m\u001b[38;5;124mt let you open fd=\u001b[39m\u001b[38;5;132;01m{\u001b[39;00mfile\u001b[38;5;132;01m}\u001b[39;00m\u001b[38;5;124m by default \u001b[39m\u001b[38;5;124m\"\u001b[39m\n\u001b[1;32m    320\u001b[0m         \u001b[38;5;124m\"\u001b[39m\u001b[38;5;124mas it is likely to crash IPython. If you know what you are doing, \u001b[39m\u001b[38;5;124m\"\u001b[39m\n\u001b[1;32m    321\u001b[0m         \u001b[38;5;124m\"\u001b[39m\u001b[38;5;124myou can use builtins\u001b[39m\u001b[38;5;124m'\u001b[39m\u001b[38;5;124m open.\u001b[39m\u001b[38;5;124m\"\u001b[39m\n\u001b[1;32m    322\u001b[0m     )\n\u001b[0;32m--> 324\u001b[0m \u001b[38;5;28;01mreturn\u001b[39;00m \u001b[43mio_open\u001b[49m\u001b[43m(\u001b[49m\u001b[43mfile\u001b[49m\u001b[43m,\u001b[49m\u001b[43m \u001b[49m\u001b[38;5;241;43m*\u001b[39;49m\u001b[43margs\u001b[49m\u001b[43m,\u001b[49m\u001b[43m \u001b[49m\u001b[38;5;241;43m*\u001b[39;49m\u001b[38;5;241;43m*\u001b[39;49m\u001b[43mkwargs\u001b[49m\u001b[43m)\u001b[49m\n",
            "\u001b[0;31mFileNotFoundError\u001b[0m: [Errno 2] No such file or directory: '/Yodo/anscombe.json'"
          ]
        }
      ],
      "source": [
        "import json\n",
        "\n",
        "data_json = \"/Yodo/anscombe.json\"\n",
        "\n",
        "with open(data_json, 'r') as fichier:\n",
        "    data = json.load(fichier)\n",
        "\n",
        "data[:3]"
      ]
    },
    {
      "cell_type": "code",
      "execution_count": null,
      "metadata": {
        "id": "_iLGyRTdZ8-5"
      },
      "outputs": [],
      "source": [
        "# Créez une correspondance entre les valeurs de 'Series' et les couleurs\n",
        "couleur_mapping = {\"I\": \"red\", \"II\": \"green\", \"III\": \"blue\"}\n",
        "\n",
        "# Parcourez la liste de données et utilisez la correspondance pour définir la couleur\n",
        "for point in data:\n",
        "    couleur = couleur_mapping.get(point['Series'], 'black')  # Noir par défaut si la série n'est pas reconnue\n",
        "    plt.scatter(point['X'], point['Y'], s=32, alpha=0.8, c=couleur)\n",
        "\n",
        "# Supprimez les bordures supérieure et droite\n",
        "plt.gca().spines[['top', 'right',]].set_visible(False)\n",
        "\n",
        "# Affiche la légende si nécessaire\n",
        "plt.legend()\n",
        "\n",
        "# Affiche le graphique\n",
        "plt.show()"
      ]
    },
    {
      "cell_type": "markdown",
      "metadata": {
        "id": "IEBmxMF8c4In"
      },
      "source": [
        "### A vous de jouer API - 4\n",
        "\n",
        "Liste d'API gratuites [Big List of Free Open APIs](https://mixedanalytics.com/blog/list-actually-free-open-no-auth-needed-apis/)\n",
        "\n",
        "1. Importer la data de votre choix pour en faire un ministe site web. Voila un lien avec un exemple [Exemple de representation d'une API](https://openweathermap.org/city/2643743)\n",
        "2. Placer votre site sur un reposotory Github et partagez le avec votre professeur"
      ]
    },
    {
      "cell_type": "code",
      "execution_count": null,
      "metadata": {
        "colab": {
          "base_uri": "https://localhost:8080/"
        },
        "id": "1JSq_AZLcRDR",
        "outputId": "8573a3b8-a960-48fb-9b1a-a375adbc5a5c"
      },
      "outputs": [
        {
          "data": {
            "text/plain": [
              "{'direction': 'SE', 'speed': 2}"
            ]
          },
          "execution_count": 1,
          "metadata": {},
          "output_type": "execute_result"
        }
      ],
      "source": [
        "import requests\n",
        "\n",
        "url = f\"https://www.7timer.info/bin/astro.php?lon=113.2&lat=23.1&ac=0&unit=metric&output=json&tzshift=0\"\n",
        "r = requests.get(url)\n",
        "r.json()['dataseries'][0]['wind10m']"
      ]
    }
  ],
  "metadata": {
    "colab": {
      "provenance": [],
      "toc_visible": true
    },
    "kernelspec": {
      "display_name": "Python 3",
      "name": "python3"
    },
    "language_info": {
      "codemirror_mode": {
        "name": "ipython",
        "version": 3
      },
      "file_extension": ".py",
      "mimetype": "text/x-python",
      "name": "python",
      "nbconvert_exporter": "python",
      "pygments_lexer": "ipython3",
      "version": "3.12.1"
    }
  },
  "nbformat": 4,
  "nbformat_minor": 0
}
